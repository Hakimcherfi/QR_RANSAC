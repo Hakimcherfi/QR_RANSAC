{
 "cells": [
  {
   "cell_type": "code",
   "execution_count": null,
   "id": "ff93b3cc",
   "metadata": {},
   "outputs": [],
   "source": [
    "import numpy as np"
   ]
  },
  {
   "cell_type": "code",
   "execution_count": null,
   "id": "63ed14a2",
   "metadata": {},
   "outputs": [],
   "source": [
    "from scipy.stats import chi2,ncx2"
   ]
  },
  {
   "cell_type": "code",
   "execution_count": null,
   "id": "4ee453b8",
   "metadata": {},
   "outputs": [],
   "source": [
    "import matplotlib.pyplot as plt"
   ]
  },
  {
   "cell_type": "code",
   "execution_count": null,
   "id": "fc92d7b0",
   "metadata": {},
   "outputs": [],
   "source": [
    "import seaborn as sns"
   ]
  },
  {
   "cell_type": "code",
   "execution_count": null,
   "id": "81023f0a",
   "metadata": {},
   "outputs": [],
   "source": [
    "np.random.seed(0)"
   ]
  },
  {
   "cell_type": "code",
   "execution_count": null,
   "id": "46cfa3c3",
   "metadata": {},
   "outputs": [],
   "source": [
    "def model(xi,biasIndex):\n",
    "    #if biasIndex = 0, we assume no bias\n",
    "    #if biasIndex not 0, its value is where bias is injected\n",
    "    if biasIndex == 0:\n",
    "        m = xi.shape[1]\n",
    "        H = np.concatenate((xi,np.ones((1,m)))).T\n",
    "        return H\n",
    "    else:\n",
    "        m = xi.shape[1]\n",
    "        H = np.concatenate((xi,np.ones((1,m)),np.zeros((1,m)))).T\n",
    "        H[biasIndex-1,2] = 1.\n",
    "        return H"
   ]
  },
  {
   "cell_type": "code",
   "execution_count": null,
   "id": "39e918fc",
   "metadata": {},
   "outputs": [],
   "source": [
    "def measurement(H,X,R,bias):\n",
    "    #generates measurements and adds a bias\n",
    "    (m,n) = H.shape\n",
    "    Y = H@X+np.linalg.cholesky(R)@np.random.randn(m,1) + bias\n",
    "    return Y"
   ]
  },
  {
   "cell_type": "code",
   "execution_count": null,
   "id": "46e29374",
   "metadata": {},
   "outputs": [],
   "source": [
    "def projector(H,R):\n",
    "    #returns (I-Htilde*Stilde)\n",
    "    L = np.linalg.cholesky(R)\n",
    "    (m,n) = H.shape\n",
    "    Htilde = np.linalg.solve(L,np.eye(m))@H\n",
    "    Stilde = np.linalg.solve((Htilde.T@Htilde),np.eye(n))@(Htilde.T)\n",
    "    P = np.eye(m)-Htilde@Stilde\n",
    "    return P"
   ]
  },
  {
   "cell_type": "code",
   "execution_count": null,
   "id": "f3182aa8",
   "metadata": {},
   "outputs": [],
   "source": [
    "def residus(Y,P,R):\n",
    "    #Y : measurements\n",
    "    #P : projector\n",
    "    #R : noise covariance matrix\n",
    "    L = np.linalg.cholesky(R)\n",
    "    (m,m) = P.shape\n",
    "    Ytilde = np.linalg.solve(L,np.eye(m))@Y\n",
    "    res = (Ytilde.T@P@Ytilde)\n",
    "    return res"
   ]
  },
  {
   "cell_type": "code",
   "execution_count": null,
   "id": "5b1c5b82",
   "metadata": {},
   "outputs": [],
   "source": [
    "def modelEstimationAndLikelihood(xi,Y,biasIndex,R):\n",
    "    H = model(xi,biasIndex)\n",
    "    L = np.linalg.cholesky(R)\n",
    "    (m,n) = H.shape\n",
    "    Htilde = np.linalg.solve(L,np.eye(m))@H\n",
    "    Stilde = np.linalg.solve((Htilde.T@Htilde),np.eye(n))@(Htilde.T)\n",
    "    Ytilde = np.linalg.solve(L,np.eye(m))@Y\n",
    "    Xestim = Stilde@Ytilde\n",
    "    dof = m-n\n",
    "    P = projector(H,R)\n",
    "    res = residus(Y,P,R)\n",
    "    likelihood = chi2.pdf(res,dof)\n",
    "    return(likelihood,res,Xestim)"
   ]
  },
  {
   "cell_type": "code",
   "execution_count": null,
   "id": "3bdf1da4",
   "metadata": {},
   "outputs": [],
   "source": [
    "def likelihoodH0H1(xi,Y,R):\n",
    "    H = model(xi,0)\n",
    "    L = np.linalg.cholesky(R)\n",
    "    (m,n) = H.shape\n",
    "    dof = m-n\n",
    "    P = projector(H,R)\n",
    "    res = residus(Y,P,R)\n",
    "    likelihoods = np.zeros((m,2))\n",
    "    for i in range(m):\n",
    "        mu = np.zeros((m,1))\n",
    "        mu[i:i+1,:] = 0.19\n",
    "        likelihood0 = chi2.pdf(res,dof)\n",
    "        likelihood1 = ncx2.pdf(res,dof,mu.T@(np.linalg.solve(L,np.eye(m)).T)@P@np.linalg.solve(L,np.eye(m))@mu)\n",
    "        norm = likelihood0 + likelihood1\n",
    "        likelihoods[i:i+1,0:1] = likelihood0/norm\n",
    "        likelihoods[i:i+1,1:2] = likelihood1/norm\n",
    "    return(likelihoods)"
   ]
  },
  {
   "cell_type": "code",
   "execution_count": null,
   "id": "2d59380f",
   "metadata": {},
   "outputs": [],
   "source": [
    "N = 22 #number of points\n",
    "#xi = np.arange(N).reshape((1,N)) #x values\n",
    "#xi = np.array([0.,0.5,1.,1.5,2.,2.5,3.,3.5,4.,4.5,5.,20.]).reshape((1,N))\n",
    "xi = np.concatenate((np.arange(N-1).reshape(N-1,1),np.array([[65]]))).T\n",
    "#Ground truth\n",
    "Xtrue = np.array([[1.],[2.]])\n",
    "Htrue = model(xi,0)\n",
    "R = ((2e-2)**2)*np.eye(N) #noise covariance matrix\n",
    "bias = np.zeros((N,1))\n",
    "bias[21,0] = 0.19 #bias introduction, python indexes at 0 !!\n",
    "Y = measurement(Htrue,Xtrue,R,bias) #measurements"
   ]
  },
  {
   "cell_type": "code",
   "execution_count": null,
   "id": "394a3789",
   "metadata": {},
   "outputs": [],
   "source": [
    "(_,_,xest) = modelEstimationAndLikelihood(xi,Y,0,R)\n",
    "x1 = xi[0,0]\n",
    "x2 = xi[0,-1]\n",
    "y1 = xest[0]*x1+xest[1]\n",
    "y2 = xest[0]*x2+xest[1]\n",
    "plt.plot([x1,x2],[y1,y2],label=\"Model 0\")\n",
    "plt.scatter(xi,Y,label=\"Y\")\n",
    "plt.legend()\n",
    "plt.show()"
   ]
  },
  {
   "cell_type": "code",
   "execution_count": null,
   "id": "41279611",
   "metadata": {},
   "outputs": [],
   "source": [
    "Ptrue = projector(Htrue,R)\n",
    "sns.heatmap(Ptrue, linewidth=0.5)\n",
    "plt.show()\n",
    "diagtrue = np.diag(Ptrue)\n",
    "imin = np.argmin(diagtrue)\n",
    "imax = np.argmax(diagtrue)\n",
    "pmin = np.min(diagtrue)\n",
    "pmax = np.max(diagtrue)\n",
    "print(\"min entry : {} index {}\".format(pmin,imin))\n",
    "print(\"max entry : {} index {}\".format(pmax,imax))"
   ]
  },
  {
   "cell_type": "code",
   "execution_count": null,
   "id": "9d5752bf",
   "metadata": {},
   "outputs": [],
   "source": [
    "dof = N-2\n",
    "xmin = 0.\n",
    "xmax = 7*N\n",
    "x=np.arange(xmin,xmax,0.01)\n",
    "plt.plot(x,chi2.pdf(x,dof),label=\"centered\")\n",
    "p = 0.5\n",
    "lambdancx2 = p*0.19**2/((2e-2)**2)\n",
    "plt.plot(x,ncx2.pdf(x,dof,lambdancx2),label=\"lambda = {}, p = {}\".format(lambdancx2,p))\n",
    "plt.title(\"Chi square densities, {} dof\".format(dof))\n",
    "plt.legend()"
   ]
  },
  {
   "cell_type": "markdown",
   "id": "3d5896ef",
   "metadata": {},
   "source": [
    "Probabilité que la réalisation des résidus soit issue de la densité centrée ou non-centrée, pour chaque mesure considérée"
   ]
  },
  {
   "cell_type": "code",
   "execution_count": null,
   "id": "7e73e562",
   "metadata": {},
   "outputs": [],
   "source": [
    "likelihoodH0H1(xi,Y,R)"
   ]
  },
  {
   "cell_type": "markdown",
   "id": "a879892b",
   "metadata": {},
   "source": [
    "We now build all possible models, and evaluate their likelihood"
   ]
  },
  {
   "cell_type": "code",
   "execution_count": null,
   "id": "b31f363c",
   "metadata": {},
   "outputs": [],
   "source": [
    "likelihood = []\n",
    "res = []\n",
    "estim = []\n",
    "for i in range(N+1):\n",
    "    (likelihood_i,res_i,estim_i) = modelEstimationAndLikelihood(xi,Y,i,R)\n",
    "    likelihood.append(likelihood_i)\n",
    "    res.append(res_i)\n",
    "    estim.append(estim_i)"
   ]
  },
  {
   "cell_type": "code",
   "execution_count": null,
   "id": "9d32b7cd",
   "metadata": {},
   "outputs": [],
   "source": [
    "for i in range(N+1):\n",
    "    x1 = xi[0,0]\n",
    "    x2 = xi[0,-1]\n",
    "    xest = estim[i]\n",
    "    y1 = xest[0]*x1+xest[1]\n",
    "    y2 = xest[0]*x2+xest[1]\n",
    "    plt.plot([x1,x2],[y1,y2],label=\"Model {}\".format(i))\n",
    "plt.scatter(xi,Y,label=\"Y\")\n",
    "plt.legend()\n",
    "plt.show()"
   ]
  },
  {
   "cell_type": "code",
   "execution_count": null,
   "id": "b79f7740",
   "metadata": {},
   "outputs": [],
   "source": [
    "likelihood = np.array(likelihood).reshape(N+1)\n",
    "plt.scatter(np.arange(N+1),likelihood)\n",
    "plt.xlabel(\"Model\")\n",
    "plt.ylabel(\"Likelihood\")"
   ]
  },
  {
   "cell_type": "code",
   "execution_count": null,
   "id": "0d05e47e",
   "metadata": {},
   "outputs": [],
   "source": [
    "res = np.array(res).reshape(N+1)\n",
    "plt.scatter(np.arange(N+1),res)\n",
    "plt.xlabel(\"Model\")\n",
    "plt.ylabel(\"Residuals\")\n",
    "plt.show()"
   ]
  }
 ],
 "metadata": {
  "kernelspec": {
   "display_name": "Python 3 (ipykernel)",
   "language": "python",
   "name": "python3"
  },
  "language_info": {
   "codemirror_mode": {
    "name": "ipython",
    "version": 3
   },
   "file_extension": ".py",
   "mimetype": "text/x-python",
   "name": "python",
   "nbconvert_exporter": "python",
   "pygments_lexer": "ipython3",
   "version": "3.10.6"
  }
 },
 "nbformat": 4,
 "nbformat_minor": 5
}
