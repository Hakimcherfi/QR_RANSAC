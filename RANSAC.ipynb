{
 "cells": [
  {
   "cell_type": "code",
   "execution_count": null,
   "id": "0ec4cac2",
   "metadata": {},
   "outputs": [],
   "source": [
    "import numpy as np\n",
    "import matplotlib.pyplot as plt"
   ]
  },
  {
   "cell_type": "code",
   "execution_count": null,
   "id": "8165d45b",
   "metadata": {},
   "outputs": [],
   "source": [
    "def LS(X,Y): #no weight, assumes iid observations\n",
    "    N = X.shape[0]\n",
    "    H = np.concatenate((X,np.ones((N,1))), axis=1)\n",
    "    return np.linalg.inv(H.T@H)@H.T@Y"
   ]
  },
  {
   "cell_type": "code",
   "execution_count": null,
   "id": "5269bdd9",
   "metadata": {},
   "outputs": [],
   "source": [
    "def error(x,y,a,b):\n",
    "    return y-(a*x+b)"
   ]
  },
  {
   "cell_type": "code",
   "execution_count": null,
   "id": "a560d696",
   "metadata": {},
   "outputs": [],
   "source": [
    "def RANSAC(X,Y,n,k,t,d):\n",
    "    XY = np.concatenate((X,Y),axis=1)\n",
    "    N = XY.shape[0]\n",
    "    #n : nombre de points pour l'ajustement du modele (toujours prendre le minimum ?)\n",
    "    #k : nb d'iterations\n",
    "    #t : seuil pour verifier si une donnee matche le modele\n",
    "    #d : nb points sous le seuil pour que modele corresponde aux donnees\n",
    "    i = 0\n",
    "    while(i<k):\n",
    "        #print(i)\n",
    "        XYk = XY[np.random.choice(XY.shape[0], size=n, replace=False), :]\n",
    "        ab = LS(XYk[:,0:1],XYk[:,1:2])\n",
    "        inliers = np.empty((0,2))\n",
    "        for j in range(N):\n",
    "            if np.linalg.norm(error(XY[j:j+1,:1],XY[j:j+1,1:],ab[0,0],ab[1,0])) <= t:\n",
    "                inliers = np.concatenate((inliers,XY[j:j+1,:]))\n",
    "        if inliers.shape[0] >= d: #we found a consensus\n",
    "            ab = LS(inliers[:,0:1],inliers[:,1:2])\n",
    "            print(\"RANSAC ended at\",i+1 ,\"th iteration\")\n",
    "            return ab\n",
    "        i+=1\n",
    "    print(\"RANSAC did not find parameters\")"
   ]
  },
  {
   "cell_type": "code",
   "execution_count": null,
   "id": "3f1a8be1",
   "metadata": {},
   "outputs": [],
   "source": [
    "def getInliersOutliers(X,Y,a,b,t):\n",
    "    XY = np.concatenate((X,Y),axis=1)\n",
    "    N = X.shape[0]\n",
    "    inliers = np.empty((0,2))\n",
    "    outliers = np.empty((0,2))\n",
    "    for i in range(N):\n",
    "        if np.linalg.norm(error(X[i,0],Y[i,0],a,b))<=t:\n",
    "            inliers = np.concatenate((inliers,XY[i:i+1,:]))\n",
    "        else:\n",
    "            outliers = np.concatenate((outliers, XY[i:i+1,:]))\n",
    "    return (inliers,outliers)"
   ]
  },
  {
   "cell_type": "code",
   "execution_count": null,
   "id": "fc852e98",
   "metadata": {},
   "outputs": [],
   "source": [
    "#y = ax + b + epsilon, epsilon sim Gaussian(0,sigma**2), all epsilon are iid.\n",
    "\n",
    "#set of inliers\n",
    "a1 = 2 #model parameter\n",
    "b1 = 1 #model parameter\n",
    "N1 = 90 #number of samples\n",
    "sigma1 = 0.1 #noise std dev\n",
    "\n",
    "#set of outliers (follow different model, why not the same with high std-dev...)\n",
    "a2 = 0 #model parameter\n",
    "b2 = 2 #model parameter\n",
    "N2 = 10 #number of samples\n",
    "sigma2 = 0.5 #noise std dev\n",
    "\n",
    "#RANSAC parameters\n",
    "#k = 3 #maximum number of iterations : why not compute probability to have a pair of inliers 99% of time with k iterations ? (see below)\n",
    "t = 3*sigma1 #threshold : absolute value of error between model and sample must be below it to have a sample considered as inlier\n",
    "d = 0.99*N1 #minimum number of samples considered as inliers to consider the model as OK\n",
    "n = 2 # number of samples used to build a model, should always be set to minimum (2 here) ?\n",
    "\n",
    "#probability to have a pair of different inliers :\n",
    "p = N1/(N1+N2)*(N1-1)/(N1-1+N2) #cf loi hypergeometrique\n",
    "#number of trials so 99% of time we draw a pair of inliers : Binomiale(X>=1) = 1-Binomiale(X=0)\n",
    "k = np.log(1-0.99)/np.log(1-p)\n",
    "#upper rounding (more than 99% chance to draw a pair of inliers)\n",
    "k = np.ceil(k)\n",
    "\n",
    "#measurement, ransac, plot, ...\n",
    "R1 = sigma1**2*np.eye(N1)\n",
    "R2 = sigma2**2*np.eye(N2)\n",
    "X1 = np.random.rand(N1,1)\n",
    "X2 = np.random.rand(N2,1)\n",
    "Y1 = a1*X1+b1 +  np.linalg.cholesky(R1)@np.random.randn(N1,1)\n",
    "Y2 = a2*X2+b2 +  np.linalg.cholesky(R2)@np.random.randn(N2,1)\n",
    "(X,Y) = np.concatenate((X1,X2)),np.concatenate((Y1,Y2))\n",
    "\n",
    "ransacCandidate = RANSAC(X,Y, n=n, k=k, t=t, d=d)\n",
    "aRansac = ransacCandidate[0,0]\n",
    "bRansac = ransacCandidate[1,0]\n",
    "\n",
    "x = np.arange(0, 1, 0.01)\n",
    "y = aRansac*x+bRansac\n",
    "fig, ax = plt.subplots()\n",
    "ax.plot(x, y,'r')\n",
    "(inliers,outliers) = getInliersOutliers(X,Y,aRansac,bRansac,t)\n",
    "plt.scatter(inliers[:,0],inliers[:,1])\n",
    "plt.scatter(outliers[:,0],outliers[:,1])\n",
    "print(\"a = \", aRansac,\", b = \", bRansac)"
   ]
  },
  {
   "cell_type": "code",
   "execution_count": null,
   "id": "feaaccb6",
   "metadata": {},
   "outputs": [],
   "source": []
  }
 ],
 "metadata": {
  "kernelspec": {
   "display_name": "Python 3 (ipykernel)",
   "language": "python",
   "name": "python3"
  },
  "language_info": {
   "codemirror_mode": {
    "name": "ipython",
    "version": 3
   },
   "file_extension": ".py",
   "mimetype": "text/x-python",
   "name": "python",
   "nbconvert_exporter": "python",
   "pygments_lexer": "ipython3",
   "version": "3.10.6"
  }
 },
 "nbformat": 4,
 "nbformat_minor": 5
}
