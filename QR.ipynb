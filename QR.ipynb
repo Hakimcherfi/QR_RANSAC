{
 "cells": [
  {
   "cell_type": "code",
   "execution_count": 3,
   "id": "a03692ed",
   "metadata": {},
   "outputs": [],
   "source": [
    "import numpy as np"
   ]
  },
  {
   "cell_type": "code",
   "execution_count": 4,
   "id": "9c7718c4",
   "metadata": {},
   "outputs": [],
   "source": [
    "def givens_param(aji,aii):\n",
    "    #computes cos and sin theta such that Givens product (see givens function) cancels y component (aji)\n",
    "    if (aji == 0.):\n",
    "        return (1.,0.)\n",
    "    elif (np.abs(aji) > np.abs(aii)):\n",
    "        r = (-aii/aji)\n",
    "        s = 1/np.sqrt(1+r**2)\n",
    "        c = r*s\n",
    "        return (c,s)\n",
    "    else :\n",
    "        r = (-aji/aii)\n",
    "        c = 1/np.sqrt(1+r**2)\n",
    "        s = r*c\n",
    "        return (c,s)"
   ]
  },
  {
   "cell_type": "code",
   "execution_count": 5,
   "id": "9e860fc2",
   "metadata": {},
   "outputs": [],
   "source": [
    "def givens(A,b,c,s,i,j):\n",
    "    #applies a Givens rotation to matrix A and vector b, rows i and j\n",
    "    #c : cos theta\n",
    "    #s : sin theta\n",
    "    #if A of size m*n,\n",
    "    #1<=i<=n\n",
    "    #i<j<=m\n",
    "    \n",
    "    #in python, A[:,:] returns a reference, so we need to make a copy\n",
    "    ai = np.copy(A[i:i+1,:])\n",
    "    aj = np.copy(A[j:j+1,:])\n",
    "    bi = np.copy(b[i:i+1,:])\n",
    "    bj = np.copy(b[j:j+1,:])\n",
    "    A[i:i+1,:] = ai*c - aj*s\n",
    "    A[j:j+1,:] = ai*s + aj*c\n",
    "    b[i:i+1,:] = c*bi + s*bj\n",
    "    b[j:j+1,:] = -s*bi + c*bj\n",
    "    return (A,b)"
   ]
  },
  {
   "cell_type": "code",
   "execution_count": 6,
   "id": "311c681c",
   "metadata": {},
   "outputs": [],
   "source": [
    "def factorization(A,b):\n",
    "    #factorization of system Ax=b\n",
    "    #returns ([[R],[0]], Q.T*b), with R upper triangular\n",
    "    (m,n) = np.shape(A)\n",
    "    for i in range(n): \n",
    "        for j in range(m-1,i,-1): #range(debut,fin,pas)\n",
    "            (c,s) = givens_param(A[j,i],A[i,i])\n",
    "            if (c,s) != (1.,0.): #if givens_param returns (1.,0.), there is no modification\n",
    "                (A,b) = givens(A,b,c,s,i,j)\n",
    "    return (A,b)"
   ]
  },
  {
   "cell_type": "code",
   "execution_count": 7,
   "id": "3508f64b",
   "metadata": {},
   "outputs": [],
   "source": [
    "def backsubstitution(A,b):\n",
    "    #backsubstitution\n",
    "    #A and b computed by factorization function\n",
    "    #A : [[R],[0]], with R upper triangular\n",
    "    #b : Q.T*b\n",
    "    (m,n) = np.shape(A);\n",
    "    R = A[:n,:n]\n",
    "    d = b[:n,:]\n",
    "    return np.linalg.solve(R,d)  #the backsubstitution is applied here"
   ]
  },
  {
   "cell_type": "code",
   "execution_count": 9,
   "id": "facc0370",
   "metadata": {},
   "outputs": [
    {
     "name": "stdout",
     "output_type": "stream",
     "text": [
      "A = \n",
      " [[0.86 0.08 0.47]\n",
      " [0.9  0.47 0.41]\n",
      " [0.22 0.83 0.5 ]\n",
      " [2.   3.   4.  ]\n",
      " [2.   3.   4.  ]\n",
      " [2.   3.   4.  ]\n",
      " [2.   3.   4.  ]\n",
      " [2.   3.   4.  ]\n",
      " [2.   3.   4.  ]]\n",
      "b = \n",
      " [[1.]\n",
      " [1.]\n",
      " [1.]\n",
      " [1.]\n",
      " [1.]\n",
      " [1.]\n",
      " [1.]\n",
      " [1.]\n",
      " [1.]]\n",
      "R = \n",
      " [[-5.05944661e+00 -7.24869790e+00 -9.66176813e+00]\n",
      " [ 2.24123283e-17  1.54031776e+00  1.69449562e+00]\n",
      " [ 2.31613905e-17 -5.13246102e-17 -6.46468289e-01]\n",
      " [ 2.21067245e-16  1.52354107e-17  0.00000000e+00]\n",
      " [-5.58315064e-19  1.66600867e-18  0.00000000e+00]\n",
      " [-7.18966067e-19  2.14539026e-18 -3.46944695e-18]\n",
      " [-1.01199420e-18 -2.47829527e-17  0.00000000e+00]\n",
      " [-1.73118464e-18 -5.07811687e-17  0.00000000e+00]\n",
      " [-1.26427581e-17  3.25470018e-17  0.00000000e+00]]\n",
      "d = \n",
      " [[ 2.42318991]\n",
      " [-1.69960647]\n",
      " [ 0.09009139]\n",
      " [ 0.01710283]\n",
      " [ 0.02091354]\n",
      " [ 0.02693126]\n",
      " [ 0.0379076 ]\n",
      " [ 0.06484727]\n",
      " [ 0.47357648]]\n",
      "x = \n",
      " [[ 1.14840375]\n",
      " [-0.95010441]\n",
      " [-0.13935933]]\n"
     ]
    }
   ],
   "source": [
    "A = np.array([[0.86,0.08,0.47],[0.90,0.47,0.41],[0.22,0.83,0.50],[2.,3.,4.],[2.,3.,4.],[2.,3.,4.],[2.,3.,4.],[2.,3.,4.],[2.,3.,4.]])\n",
    "#before doing anything else, we should make sure A has more rows than columns and is full rank\n",
    "#if this is not the case, the call to backsubstitution will raise an error\n",
    "(m,n) = np.shape(A)\n",
    "b = np.ones((m,1))\n",
    "print(\"A = \\n\",A)\n",
    "print(\"b = \\n\",b)\n",
    "(R,d) = factorization(A,b)\n",
    "print(\"R = \\n\",R)\n",
    "print(\"d = \\n\",d)\n",
    "x = backsubstitution(R,d)\n",
    "print(\"x = \\n\",x)"
   ]
  },
  {
   "cell_type": "code",
   "execution_count": null,
   "id": "0dd2c15d",
   "metadata": {},
   "outputs": [],
   "source": []
  }
 ],
 "metadata": {
  "kernelspec": {
   "display_name": "Python 3 (ipykernel)",
   "language": "python",
   "name": "python3"
  },
  "language_info": {
   "codemirror_mode": {
    "name": "ipython",
    "version": 3
   },
   "file_extension": ".py",
   "mimetype": "text/x-python",
   "name": "python",
   "nbconvert_exporter": "python",
   "pygments_lexer": "ipython3",
   "version": "3.10.6"
  }
 },
 "nbformat": 4,
 "nbformat_minor": 5
}
