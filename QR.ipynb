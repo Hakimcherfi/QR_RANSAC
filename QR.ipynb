{
 "cells": [
  {
   "cell_type": "code",
   "execution_count": null,
   "id": "a03692ed",
   "metadata": {},
   "outputs": [],
   "source": [
    "import numpy as np"
   ]
  },
  {
   "cell_type": "code",
   "execution_count": null,
   "id": "9c7718c4",
   "metadata": {},
   "outputs": [],
   "source": [
    "def givens_param(aji,aii):\n",
    "    #computes cos and sin theta such that Givens product cancels y component (aji)\n",
    "    if (aji == 0.):\n",
    "        return (1.,0.)\n",
    "    elif (np.abs(aji) > np.abs(aii)):\n",
    "        c = -aii/(aji*np.sqrt(1+(aii/aji)**2))\n",
    "        s = 1/np.sqrt(1+(aii/aji)**2)\n",
    "        return (c,s)\n",
    "    else :\n",
    "        c = 1/np.sqrt(1+(aji/aii)**2)\n",
    "        s = -aji/(aii*np.sqrt(1+(aji/aii)**2))\n",
    "        return (c,s)"
   ]
  },
  {
   "cell_type": "code",
   "execution_count": null,
   "id": "9e860fc2",
   "metadata": {},
   "outputs": [],
   "source": [
    "def givens(A,b,c,s,i,j):\n",
    "    #applies a Givens rotation to matrix A and vector b\n",
    "    #c : cos theta\n",
    "    #s : sin theta\n",
    "    #1<=i<=n\n",
    "    #i<j<=m\n",
    "    \n",
    "    #in python, A[:,:] returns reference\n",
    "    ai = np.copy(A[i:i+1,:])\n",
    "    aj = np.copy(A[j:j+1,:])\n",
    "    bi = np.copy(b[i:i+1,:])\n",
    "    bj = np.copy(b[j:j+1,:])\n",
    "    A[i:i+1,:] = ai*c - aj*s\n",
    "    A[j:j+1,:] = ai*s + aj*c\n",
    "    b[i:i+1,:] = c*bi + s*bj\n",
    "    b[j:j+1,:] = -s*bi + c*bj\n",
    "    return (A,b)"
   ]
  },
  {
   "cell_type": "code",
   "execution_count": null,
   "id": "311c681c",
   "metadata": {},
   "outputs": [],
   "source": [
    "def factorization(A,b):\n",
    "    #returns (R, Q'*b)\n",
    "    (m,n) = np.shape(A)\n",
    "    for i in range(n): \n",
    "        for j in range(m-1,i,-1): #range(debut,fin,pas)\n",
    "            (c,s) = givens_param(A[j,i],A[i,i])\n",
    "            if (c,s) != (1.,0.):\n",
    "                (A,b) = givens(A,b,c,s,i,j)\n",
    "    return (A,b)"
   ]
  },
  {
   "cell_type": "code",
   "execution_count": null,
   "id": "facc0370",
   "metadata": {},
   "outputs": [],
   "source": [
    "A = np.array([[0.86,0.08,0.47],[0.90,0.47,0.41],[0.22,0.83,0.50]])\n",
    "(m,n) = np.shape(A)\n",
    "b = np.ones((m,1))\n",
    "print(\"A = \\n\",A)\n",
    "print(\"b = \\n\",b)\n",
    "(R,d) = factorization(A,b)\n",
    "print(R)\n",
    "print(d)"
   ]
  },
  {
   "cell_type": "code",
   "execution_count": null,
   "id": "8a734442",
   "metadata": {},
   "outputs": [],
   "source": [
    "np.linalg.qr(A)"
   ]
  },
  {
   "cell_type": "code",
   "execution_count": null,
   "id": "e47aa321",
   "metadata": {},
   "outputs": [],
   "source": []
  }
 ],
 "metadata": {
  "kernelspec": {
   "display_name": "Python 3 (ipykernel)",
   "language": "python",
   "name": "python3"
  },
  "language_info": {
   "codemirror_mode": {
    "name": "ipython",
    "version": 3
   },
   "file_extension": ".py",
   "mimetype": "text/x-python",
   "name": "python",
   "nbconvert_exporter": "python",
   "pygments_lexer": "ipython3",
   "version": "3.10.6"
  }
 },
 "nbformat": 4,
 "nbformat_minor": 5
}
