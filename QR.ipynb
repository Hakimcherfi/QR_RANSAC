{
 "cells": [
  {
   "cell_type": "code",
   "execution_count": 1,
   "id": "a03692ed",
   "metadata": {},
   "outputs": [],
   "source": [
    "import numpy as np"
   ]
  },
  {
   "cell_type": "code",
   "execution_count": 2,
   "id": "9c7718c4",
   "metadata": {},
   "outputs": [],
   "source": [
    "def givens_param(aji,aii):\n",
    "    #c'est l'atan2 du vecteur(aii,aji)' ?\n",
    "    if (aji == 0.):\n",
    "        return (1.,0.)\n",
    "    elif (np.abs(aji) > np.abs(aii)):\n",
    "        c = -aii/(aji*np.sqrt(1+(aii/aji)**2))\n",
    "        s = 1/np.sqrt(1+(aii/aji)**2)\n",
    "        return (c,s)\n",
    "    else :\n",
    "        c = 1/np.sqrt(1+(aji/aii)**2)\n",
    "        s = -aji/(aii*np.sqrt(1+(aji/aii)**2))\n",
    "        return (c,s)"
   ]
  },
  {
   "cell_type": "code",
   "execution_count": 47,
   "id": "9e860fc2",
   "metadata": {},
   "outputs": [],
   "source": [
    "def givens(A,b,c,s,i,j):\n",
    "    ai = A[i:i+1,:]\n",
    "    aj = A[j:j+1,:]\n",
    "    bi = b[i:i+1,:]\n",
    "    bj = b[j:j+1,:]\n",
    "    A[i:i+1,:] = c*ai - s*aj\n",
    "    A[j:j+1,:] = s*ai + c*aj\n",
    "    b[i:i+1,:] = c*bi - s*bj\n",
    "    b[j:j+1,:] = s*bi + c*bj\n",
    "    return (A,b)"
   ]
  },
  {
   "cell_type": "code",
   "execution_count": 55,
   "id": "311c681c",
   "metadata": {},
   "outputs": [],
   "source": [
    "def factorization(A,b):\n",
    "    (m,n) = np.shape(A)\n",
    "    for i in range(n): \n",
    "        for j in range(m-1,i,-1): #range(debut,fin,pas)\n",
    "            print(\"i = \",i,\" j = \",j)\n",
    "            (c,s) = givens_param(A[j,i],A[i,i])\n",
    "            #if (c,s) != (1.,0.):\n",
    "            (A,b) = givens(A,b,c,s,i,j)\n",
    "            print(A)\n",
    "    return (A,b)"
   ]
  },
  {
   "cell_type": "code",
   "execution_count": 56,
   "id": "facc0370",
   "metadata": {},
   "outputs": [
    {
     "name": "stdout",
     "output_type": "stream",
     "text": [
      "H = \n",
      " [[0.86 0.08 0.47]\n",
      " [0.9  0.47 0.41]\n",
      " [0.22 0.83 0.5 ]]\n",
      "y = \n",
      " [[1.]\n",
      " [1.]\n",
      " [1.]]\n",
      "i =  0  j =  2\n",
      "[[ 0.88769364  0.28320581  0.5792539 ]\n",
      " [ 0.9         0.47        0.41      ]\n",
      " [-0.00686341  0.73391843  0.34084298]]\n",
      "i =  0  j =  1\n",
      "[[-1.26412025 -0.53349355 -0.69866771]\n",
      " [-1.53200022 -0.70986934 -0.78533299]\n",
      " [-0.00686341  0.73391843  0.34084298]]\n",
      "i =  1  j =  2\n",
      "[[-1.26412025 -0.53349355 -0.69866771]\n",
      " [-1.06016242 -1.02105374 -0.79098163]\n",
      " [-0.76680084 -0.22367477 -0.331581  ]]\n"
     ]
    },
    {
     "data": {
      "text/plain": [
       "(array([[-1.26412025, -0.53349355, -0.69866771],\n",
       "        [-1.06016242, -1.02105374, -0.79098163],\n",
       "        [-0.76680084, -0.22367477, -0.331581  ]]),\n",
       " array([[-1.56630669],\n",
       "        [-1.74312243],\n",
       "        [-0.78901641]]))"
      ]
     },
     "execution_count": 56,
     "metadata": {},
     "output_type": "execute_result"
    }
   ],
   "source": [
    "H = np.array([[0.86,0.08,0.47],[0.90,0.47,0.41],[0.22,0.83,0.50]])\n",
    "(m,n) = np.shape(H)\n",
    "y = np.ones((m,1))\n",
    "print(\"H = \\n\",H)\n",
    "print(\"y = \\n\",y)\n",
    "factorization(H,y)"
   ]
  },
  {
   "cell_type": "code",
   "execution_count": null,
   "id": "8a734442",
   "metadata": {},
   "outputs": [],
   "source": []
  },
  {
   "cell_type": "code",
   "execution_count": null,
   "id": "3359f6c4",
   "metadata": {},
   "outputs": [],
   "source": []
  }
 ],
 "metadata": {
  "kernelspec": {
   "display_name": "Python 3 (ipykernel)",
   "language": "python",
   "name": "python3"
  },
  "language_info": {
   "codemirror_mode": {
    "name": "ipython",
    "version": 3
   },
   "file_extension": ".py",
   "mimetype": "text/x-python",
   "name": "python",
   "nbconvert_exporter": "python",
   "pygments_lexer": "ipython3",
   "version": "3.10.6"
  }
 },
 "nbformat": 4,
 "nbformat_minor": 5
}
