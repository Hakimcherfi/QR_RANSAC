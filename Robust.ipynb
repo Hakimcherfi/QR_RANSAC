{
 "cells": [
  {
   "cell_type": "code",
   "execution_count": null,
   "id": "864985b6",
   "metadata": {},
   "outputs": [],
   "source": [
    "import numpy as np"
   ]
  },
  {
   "cell_type": "code",
   "execution_count": null,
   "id": "bac85f6d",
   "metadata": {},
   "outputs": [],
   "source": [
    "import matplotlib.pyplot as plt"
   ]
  },
  {
   "cell_type": "code",
   "execution_count": null,
   "id": "47f9aead",
   "metadata": {},
   "outputs": [],
   "source": [
    "def gauss_newton(y, H):\n",
    "    x = np.linalg.solve(H.T@H,H.T@y)\n",
    "    return x"
   ]
  },
  {
   "cell_type": "code",
   "execution_count": null,
   "id": "95e6575f",
   "metadata": {},
   "outputs": [],
   "source": [
    "def huber(x,l):\n",
    "    if np.abs(x) <= l:\n",
    "        return 0.5*x**2\n",
    "    else:\n",
    "        return l*(np.abs(x)-0.5*l)"
   ]
  },
  {
   "cell_type": "code",
   "execution_count": null,
   "id": "ea41bd03",
   "metadata": {},
   "outputs": [],
   "source": [
    "def lev_marq(H,y):\n",
    "    trust = 1e-3\n",
    "    hessian = H.T@H + trust*np.diag(H.T@H)\n",
    "    x = np.linalg.solve()"
   ]
  },
  {
   "cell_type": "code",
   "execution_count": null,
   "id": "dfe7e22b",
   "metadata": {},
   "outputs": [],
   "source": [
    "def robust_gauss_newton(y,H):\n",
    "    x = np.linalg.solve(H.T@H,H.T@y)\n",
    "    return x"
   ]
  },
  {
   "cell_type": "code",
   "execution_count": null,
   "id": "e07e2a9e",
   "metadata": {},
   "outputs": [],
   "source": [
    "m = 10\n",
    "n = 2\n",
    "X = np.array([[1.],[1.]])\n",
    "R = 1e-3*np.eye(m)\n",
    "xi = np.reshape(np.arange(0,1,1/m,dtype=float),(m,1))\n",
    "H = np.concatenate((xi,np.ones((m,1))),axis=1)\n",
    "y = H@X + np.linalg.cholesky(R)@np.random.randn(m,1)\n",
    "y[2,0] += 1\n",
    "x_hat = gauss_newton(y,H)"
   ]
  },
  {
   "cell_type": "code",
   "execution_count": null,
   "id": "8437bb46",
   "metadata": {},
   "outputs": [],
   "source": [
    "x_plot = np.arange(0, 1, 0.01)\n",
    "y_plot = x_hat[0,0]*x_plot+x_hat[1,0]\n",
    "fig, ax = plt.subplots()\n",
    "ax.plot(x_plot, y_plot,'r')\n",
    "plt.scatter(xi,y)\n",
    "print(x_hat)"
   ]
  },
  {
   "cell_type": "code",
   "execution_count": null,
   "id": "9591a942",
   "metadata": {},
   "outputs": [],
   "source": []
  }
 ],
 "metadata": {
  "kernelspec": {
   "display_name": "Python 3 (ipykernel)",
   "language": "python",
   "name": "python3"
  },
  "language_info": {
   "codemirror_mode": {
    "name": "ipython",
    "version": 3
   },
   "file_extension": ".py",
   "mimetype": "text/x-python",
   "name": "python",
   "nbconvert_exporter": "python",
   "pygments_lexer": "ipython3",
   "version": "3.10.6"
  }
 },
 "nbformat": 4,
 "nbformat_minor": 5
}
