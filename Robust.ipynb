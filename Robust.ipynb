{
 "cells": [
  {
   "cell_type": "code",
   "execution_count": null,
   "id": "864985b6",
   "metadata": {},
   "outputs": [],
   "source": [
    "import numpy as np"
   ]
  },
  {
   "cell_type": "code",
   "execution_count": null,
   "id": "bac85f6d",
   "metadata": {},
   "outputs": [],
   "source": [
    "import matplotlib.pyplot as plt"
   ]
  },
  {
   "cell_type": "code",
   "execution_count": null,
   "id": "47f9aead",
   "metadata": {},
   "outputs": [],
   "source": [
    "def gauss_newton(y, H):\n",
    "    x = np.linalg.solve(H.T@H,H.T@y)\n",
    "    return x"
   ]
  },
  {
   "cell_type": "code",
   "execution_count": null,
   "id": "95e6575f",
   "metadata": {},
   "outputs": [],
   "source": [
    "def huber(r,l,debug=False):\n",
    "    m = np.shape(r)[0]\n",
    "    cost = 0\n",
    "    for i in range(m):\n",
    "        if np.abs(r[i]) <= l:\n",
    "            cost += 0.5*r[i]**2\n",
    "            if debug:\n",
    "                print(\"res \",i, \" quad\")\n",
    "        else:\n",
    "            cost += l*(np.abs(r[i])-0.5*l)\n",
    "            if debug:\n",
    "                print(\"res \",i, \" lin\")\n",
    "    return cost"
   ]
  },
  {
   "cell_type": "code",
   "execution_count": null,
   "id": "ea41bd03",
   "metadata": {},
   "outputs": [],
   "source": [
    "def lev_marq(H,y,x0,l,trust):\n",
    "    hessian = H.T@H + trust*np.diag(H.T@H)\n",
    "    x = np.linalg.solve(hessian,H.T@y)\n",
    "    if (huber(y-H@x,l)<huber(y-H@x0,l)) :#we apply the update\n",
    "        x0 = x\n",
    "        trust /= 10\n",
    "    else : #no update, lower trust\n",
    "        trust *= 10\n",
    "    return (x0,trust)"
   ]
  },
  {
   "cell_type": "code",
   "execution_count": null,
   "id": "e07e2a9e",
   "metadata": {},
   "outputs": [],
   "source": [
    "m = 10\n",
    "n = 2\n",
    "X = np.array([[1.],[1.]])\n",
    "R = 1e-3*np.eye(m)\n",
    "xi = np.reshape(np.arange(0,1,1/m,dtype=float),(m,1))\n",
    "H = np.concatenate((xi,np.ones((m,1))),axis=1)\n",
    "y = H@X + np.linalg.cholesky(R)@np.random.randn(m,1)\n",
    "y[2,0] += 10\n",
    "x_hat_gn = gauss_newton(y,H)\n",
    "x_hat_lm = 1e6*np.random.randn(2,1)\n",
    "trust = 1e-1\n",
    "l_huber = 0.1\n",
    "while True:\n",
    "    (x_hat_lm_new,trust_new) = lev_marq(H,y,x_hat_lm,l_huber,trust)\n",
    "    if (np.linalg.norm(x_hat_lm_new-x_hat_lm)<=1e-8):\n",
    "        print(x_hat_lm)\n",
    "        print(x_hat_lm_new)\n",
    "        break\n",
    "    else:\n",
    "        print(x_hat_lm)\n",
    "        print(x_hat_lm_new)\n",
    "        x_hat_lm = x_hat_lm_new\n",
    "        trust = np.copy(trust_new)\n",
    "        \n",
    "huber(y-H@x_hat_lm,l_huber,debug=True)"
   ]
  },
  {
   "cell_type": "code",
   "execution_count": null,
   "id": "8437bb46",
   "metadata": {},
   "outputs": [],
   "source": [
    "x_plot = np.arange(0, 1, 0.01)\n",
    "y_plot_lm = x_hat_lm[0,0]*x_plot+x_hat_lm[1,0]\n",
    "y_plot_gn = x_hat_gn[0,0]*x_plot+x_hat_gn[1,0]\n",
    "fig, ax = plt.subplots()\n",
    "ax.plot(x_plot, y_plot_lm,'r')\n",
    "ax.plot(x_plot, y_plot_gn,'g')\n",
    "plt.scatter(xi,y)\n",
    "print(x_hat_lm)\n",
    "print(x_hat_gn)"
   ]
  },
  {
   "cell_type": "code",
   "execution_count": null,
   "id": "9591a942",
   "metadata": {},
   "outputs": [],
   "source": []
  },
  {
   "cell_type": "code",
   "execution_count": null,
   "id": "32408981",
   "metadata": {},
   "outputs": [],
   "source": []
  }
 ],
 "metadata": {
  "kernelspec": {
   "display_name": "Python 3 (ipykernel)",
   "language": "python",
   "name": "python3"
  },
  "language_info": {
   "codemirror_mode": {
    "name": "ipython",
    "version": 3
   },
   "file_extension": ".py",
   "mimetype": "text/x-python",
   "name": "python",
   "nbconvert_exporter": "python",
   "pygments_lexer": "ipython3",
   "version": "3.10.6"
  }
 },
 "nbformat": 4,
 "nbformat_minor": 5
}
